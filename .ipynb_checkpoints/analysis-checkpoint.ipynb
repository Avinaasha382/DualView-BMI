{
 "cells": [
  {
   "cell_type": "code",
   "execution_count": null,
   "id": "458c7f9a-29eb-4575-9caa-746633bd1531",
   "metadata": {},
   "outputs": [],
   "source": [
    "import pandas as pd\n",
    "import numpy as np\n",
    "import matplotlib.pyplot as plt\n",
    "import seaborn as sns"
   ]
  },
  {
   "cell_type": "code",
   "execution_count": null,
   "id": "84ce1374-859d-4646-b104-15088cab65e6",
   "metadata": {},
   "outputs": [],
   "source": [
    "df = pd.read_csv(\"face_features.csv\")\n",
    "df"
   ]
  },
  {
   "cell_type": "code",
   "execution_count": null,
   "id": "a4863d0e-8e7b-4c5d-9aea-d0b8b2aea61b",
   "metadata": {},
   "outputs": [],
   "source": [
    "persons = pd.read_csv(\"person.csv\",sep=\";\")\n",
    "persons = persons[[\"id\",\"weight\",\"height\"]]\n",
    "persons"
   ]
  },
  {
   "cell_type": "code",
   "execution_count": null,
   "id": "c5968c08-1993-455a-800e-5ff789b89e28",
   "metadata": {},
   "outputs": [],
   "source": [
    "persons.columns"
   ]
  },
  {
   "cell_type": "code",
   "execution_count": null,
   "id": "e7e5cfd5-9fde-4f61-b2e3-3492485276b6",
   "metadata": {},
   "outputs": [],
   "source": [
    "df[\"id\"] = [filename.split(\".\")[0] for filename in df[\"filename\"]]\n",
    "df"
   ]
  },
  {
   "cell_type": "code",
   "execution_count": null,
   "id": "8a6d4a10-a76b-4de5-a47d-4952cb7f4b72",
   "metadata": {},
   "outputs": [],
   "source": [
    "merged_df = pd.merge(df, persons, on='id', how='inner')"
   ]
  },
  {
   "cell_type": "code",
   "execution_count": null,
   "id": "640ace83-addd-432f-b8db-9c1b8efdb9f5",
   "metadata": {},
   "outputs": [],
   "source": [
    "merged_df"
   ]
  },
  {
   "cell_type": "code",
   "execution_count": null,
   "id": "24de2d2d-8946-41a4-a6b5-4b6133eac35b",
   "metadata": {},
   "outputs": [],
   "source": [
    "merged_df[[\"weight\",\"height\"]]"
   ]
  },
  {
   "cell_type": "code",
   "execution_count": null,
   "id": "2e39197f-a6dd-4575-ac99-198d6033a48d",
   "metadata": {},
   "outputs": [],
   "source": [
    "merged_df[\"bmi\"] = [(weight/(height**2))*703 for weight,height in zip(merged_df[\"weight\"],merged_df[\"height\"])]"
   ]
  },
  {
   "cell_type": "code",
   "execution_count": null,
   "id": "77b2b0db-f03f-4804-a60a-ffcea5fc0e40",
   "metadata": {},
   "outputs": [],
   "source": [
    "merged_df"
   ]
  },
  {
   "cell_type": "code",
   "execution_count": null,
   "id": "f03ca19b-16b7-4e67-bcbe-6b43dba53118",
   "metadata": {},
   "outputs": [],
   "source": [
    "merged_df.drop([\"filename\",\"id\",\"weight\",\"height\"],axis = 1,inplace=True)\n",
    "merged_df"
   ]
  },
  {
   "cell_type": "code",
   "execution_count": null,
   "id": "c004cf3a-e619-4803-9e45-729a26864114",
   "metadata": {},
   "outputs": [],
   "source": [
    "num_columns = merged_df.shape[1]\n",
    "num_columns"
   ]
  },
  {
   "cell_type": "code",
   "execution_count": null,
   "id": "2647a78c-5222-4848-94cf-5f3da8673173",
   "metadata": {},
   "outputs": [],
   "source": [
    "target_col = num_columns - 1\n",
    "target_col"
   ]
  },
  {
   "cell_type": "code",
   "execution_count": null,
   "id": "9aa8ac7e-02f4-415d-ade8-5e67603d6f71",
   "metadata": {},
   "outputs": [],
   "source": [
    "correlations = []\n",
    "for col in range(num_columns - 1):  # Exclude the last column\n",
    "    corr = merged_df.iloc[:, col].corr(merged_df.iloc[:, target_col])\n",
    "    correlations.append(corr)\n",
    "    \n"
   ]
  },
  {
   "cell_type": "code",
   "execution_count": null,
   "id": "f0a0997b-09dd-4b1d-8aac-1e9e1d2f7b5f",
   "metadata": {},
   "outputs": [],
   "source": [
    "correlations"
   ]
  },
  {
   "cell_type": "code",
   "execution_count": null,
   "id": "fedc4f85-0bdb-486d-8e57-243853205f75",
   "metadata": {},
   "outputs": [],
   "source": [
    "len(correlations)"
   ]
  },
  {
   "cell_type": "code",
   "execution_count": null,
   "id": "a35cd5c5-c1ec-4a55-bfa6-3e103777c5b6",
   "metadata": {},
   "outputs": [],
   "source": [
    "plt.figure(figsize=(12, 6))\n",
    "plt.plot(correlations, marker='o')\n",
    "plt.title(\"Pearson Correlation of 1024 Columns with the Last Column\")\n",
    "plt.xlabel(\"Column Index\")\n",
    "plt.ylabel(\"Correlation Coefficient\")\n",
    "plt.grid(True)\n",
    "plt.savefig(\"relationship1.png\")\n",
    "plt.show()"
   ]
  },
  {
   "cell_type": "code",
   "execution_count": null,
   "id": "9d989fba-8af8-487e-a9f4-cf9a045777df",
   "metadata": {},
   "outputs": [],
   "source": [
    "plt.bar(range(len(correlations)), correlations)\n"
   ]
  },
  {
   "cell_type": "code",
   "execution_count": null,
   "id": "7c722c33-a78a-4267-b8b8-0262640da33f",
   "metadata": {},
   "outputs": [],
   "source": [
    "merged_df.drop([\"bmi\"],axis=1,inplace=True)"
   ]
  },
  {
   "cell_type": "code",
   "execution_count": null,
   "id": "b85982cb-913d-4539-90c8-46bd5acfb666",
   "metadata": {},
   "outputs": [],
   "source": [
    "merged_df"
   ]
  },
  {
   "cell_type": "code",
   "execution_count": null,
   "id": "9e5f7f2c-5187-435e-a577-801445e923d3",
   "metadata": {},
   "outputs": [],
   "source": [
    "corr = merged_df.corr()"
   ]
  },
  {
   "cell_type": "code",
   "execution_count": null,
   "id": "27eb6e3e-a4f3-4aee-838b-1dfb518ce2e5",
   "metadata": {},
   "outputs": [],
   "source": [
    "corr"
   ]
  },
  {
   "cell_type": "code",
   "execution_count": null,
   "id": "320bf4f3-d88c-4f6c-b0d6-f6cf06e02d2d",
   "metadata": {},
   "outputs": [],
   "source": [
    "sns.heatmap(corr, cmap=\"coolwarm\", annot=True, cbar=True)"
   ]
  },
  {
   "cell_type": "code",
   "execution_count": null,
   "id": "037b9895-8aa9-4424-9b84-1fd8566a67eb",
   "metadata": {},
   "outputs": [],
   "source": []
  }
 ],
 "metadata": {
  "kernelspec": {
   "display_name": "Python 3 (ipykernel)",
   "language": "python",
   "name": "python3"
  },
  "language_info": {
   "codemirror_mode": {
    "name": "ipython",
    "version": 3
   },
   "file_extension": ".py",
   "mimetype": "text/x-python",
   "name": "python",
   "nbconvert_exporter": "python",
   "pygments_lexer": "ipython3",
   "version": "3.12.4"
  }
 },
 "nbformat": 4,
 "nbformat_minor": 5
}
